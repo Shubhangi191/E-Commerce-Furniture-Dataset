{
 "cells": [
  {
   "cell_type": "code",
   "execution_count": null,
   "id": "2e438792-17fa-459f-9ebd-b44774af20ed",
   "metadata": {},
   "outputs": [],
   "source": [
    "E-Commerce Furniture Dataset 2024"
   ]
  },
  {
   "cell_type": "code",
   "execution_count": null,
   "id": "a4327e0d-0da6-4dec-a37e-c86d200d8a89",
   "metadata": {},
   "outputs": [],
   "source": [
    "Objective:\n",
    "1) Analyze the sales of furniture items.\n",
    "2) Understand the impact of price, discounts, and shipping on sales.\n",
    "3) Build a predictive model to forecast the number of items sold."
   ]
  },
  {
   "cell_type": "code",
   "execution_count": 10,
   "id": "08986055-c59e-4eb1-b439-c00957274a77",
   "metadata": {},
   "outputs": [],
   "source": [
    "import numpy as np\n",
    "import pandas as pd\n",
    "import seaborn as sns\n",
    "import matplotlib.pyplot as plt"
   ]
  },
  {
   "cell_type": "code",
   "execution_count": 64,
   "id": "2fc5f9e7-71c6-4f84-b046-591f214e3596",
   "metadata": {},
   "outputs": [
    {
     "data": {
      "text/html": [
       "<div>\n",
       "<style scoped>\n",
       "    .dataframe tbody tr th:only-of-type {\n",
       "        vertical-align: middle;\n",
       "    }\n",
       "\n",
       "    .dataframe tbody tr th {\n",
       "        vertical-align: top;\n",
       "    }\n",
       "\n",
       "    .dataframe thead th {\n",
       "        text-align: right;\n",
       "    }\n",
       "</style>\n",
       "<table border=\"1\" class=\"dataframe\">\n",
       "  <thead>\n",
       "    <tr style=\"text-align: right;\">\n",
       "      <th></th>\n",
       "      <th>productTitle</th>\n",
       "      <th>originalPrice</th>\n",
       "      <th>price</th>\n",
       "      <th>sold</th>\n",
       "      <th>tagText</th>\n",
       "    </tr>\n",
       "  </thead>\n",
       "  <tbody>\n",
       "    <tr>\n",
       "      <th>0</th>\n",
       "      <td>Dresser For Bedroom With 9 Fabric Drawers Ward...</td>\n",
       "      <td>NaN</td>\n",
       "      <td>$46.79</td>\n",
       "      <td>600</td>\n",
       "      <td>Free shipping</td>\n",
       "    </tr>\n",
       "    <tr>\n",
       "      <th>1</th>\n",
       "      <td>Outdoor Conversation Set 4 Pieces Patio Furnit...</td>\n",
       "      <td>NaN</td>\n",
       "      <td>$169.72</td>\n",
       "      <td>0</td>\n",
       "      <td>Free shipping</td>\n",
       "    </tr>\n",
       "    <tr>\n",
       "      <th>2</th>\n",
       "      <td>Desser For Bedroom With 7 Fabric Drawers Organ...</td>\n",
       "      <td>$78.4</td>\n",
       "      <td>$39.46</td>\n",
       "      <td>7</td>\n",
       "      <td>Free shipping</td>\n",
       "    </tr>\n",
       "    <tr>\n",
       "      <th>3</th>\n",
       "      <td>Modern Accent Boucle Chair,Upholstered Tufted ...</td>\n",
       "      <td>NaN</td>\n",
       "      <td>$111.99</td>\n",
       "      <td>0</td>\n",
       "      <td>Free shipping</td>\n",
       "    </tr>\n",
       "    <tr>\n",
       "      <th>4</th>\n",
       "      <td>Small Unit Simple Computer Desk Household Wood...</td>\n",
       "      <td>$48.82</td>\n",
       "      <td>$21.37</td>\n",
       "      <td>1</td>\n",
       "      <td>Free shipping</td>\n",
       "    </tr>\n",
       "  </tbody>\n",
       "</table>\n",
       "</div>"
      ],
      "text/plain": [
       "                                        productTitle originalPrice    price  \\\n",
       "0  Dresser For Bedroom With 9 Fabric Drawers Ward...           NaN   $46.79   \n",
       "1  Outdoor Conversation Set 4 Pieces Patio Furnit...           NaN  $169.72   \n",
       "2  Desser For Bedroom With 7 Fabric Drawers Organ...         $78.4   $39.46   \n",
       "3  Modern Accent Boucle Chair,Upholstered Tufted ...           NaN  $111.99   \n",
       "4  Small Unit Simple Computer Desk Household Wood...        $48.82   $21.37   \n",
       "\n",
       "   sold        tagText  \n",
       "0   600  Free shipping  \n",
       "1     0  Free shipping  \n",
       "2     7  Free shipping  \n",
       "3     0  Free shipping  \n",
       "4     1  Free shipping  "
      ]
     },
     "execution_count": 64,
     "metadata": {},
     "output_type": "execute_result"
    }
   ],
   "source": [
    "# Load dataset\n",
    "df = pd.read_csv('ecommerce_furniture_dataset_2024.csv')\n",
    "\n",
    "# Check first few rows\n",
    "df.head()"
   ]
  },
  {
   "cell_type": "code",
   "execution_count": 12,
   "id": "47487756-56ba-4dc4-855e-fe6fae1570ab",
   "metadata": {},
   "outputs": [
    {
     "ename": "SyntaxError",
     "evalue": "invalid syntax (365056939.py, line 1)",
     "output_type": "error",
     "traceback": [
      "\u001b[0;36m  Cell \u001b[0;32mIn[12], line 1\u001b[0;36m\u001b[0m\n\u001b[0;31m    Data Cleaning\u001b[0m\n\u001b[0m         ^\u001b[0m\n\u001b[0;31mSyntaxError\u001b[0m\u001b[0;31m:\u001b[0m invalid syntax\n"
     ]
    }
   ],
   "source": [
    "Data Cleaning"
   ]
  },
  {
   "cell_type": "code",
   "execution_count": 53,
   "id": "3cba4e75-0a4e-46c1-83dc-ccaaffd16406",
   "metadata": {},
   "outputs": [
    {
     "data": {
      "text/plain": [
       "productTitle        0\n",
       "originalPrice    1513\n",
       "price               0\n",
       "sold                0\n",
       "tagText             3\n",
       "dtype: int64"
      ]
     },
     "execution_count": 53,
     "metadata": {},
     "output_type": "execute_result"
    }
   ],
   "source": [
    "#Check null values\n",
    "df.isnull().sum()"
   ]
  },
  {
   "cell_type": "code",
   "execution_count": 25,
   "id": "aa0451a0-f2c0-46dc-943d-93488f63bdf1",
   "metadata": {},
   "outputs": [
    {
     "data": {
      "text/html": [
       "<div>\n",
       "<style scoped>\n",
       "    .dataframe tbody tr th:only-of-type {\n",
       "        vertical-align: middle;\n",
       "    }\n",
       "\n",
       "    .dataframe tbody tr th {\n",
       "        vertical-align: top;\n",
       "    }\n",
       "\n",
       "    .dataframe thead th {\n",
       "        text-align: right;\n",
       "    }\n",
       "</style>\n",
       "<table border=\"1\" class=\"dataframe\">\n",
       "  <thead>\n",
       "    <tr style=\"text-align: right;\">\n",
       "      <th></th>\n",
       "      <th>productTitle</th>\n",
       "      <th>originalPrice</th>\n",
       "      <th>price</th>\n",
       "      <th>sold</th>\n",
       "      <th>tagText</th>\n",
       "    </tr>\n",
       "  </thead>\n",
       "  <tbody>\n",
       "    <tr>\n",
       "      <th>2</th>\n",
       "      <td>Desser For Bedroom With 7 Fabric Drawers Organ...</td>\n",
       "      <td>$78.4</td>\n",
       "      <td>$39.46</td>\n",
       "      <td>7</td>\n",
       "      <td>99</td>\n",
       "    </tr>\n",
       "    <tr>\n",
       "      <th>4</th>\n",
       "      <td>Small Unit Simple Computer Desk Household Wood...</td>\n",
       "      <td>$48.82</td>\n",
       "      <td>$21.37</td>\n",
       "      <td>1</td>\n",
       "      <td>99</td>\n",
       "    </tr>\n",
       "    <tr>\n",
       "      <th>5</th>\n",
       "      <td>3 Pieces Patio Furniture Set, Outdoor Swivel G...</td>\n",
       "      <td>$1,294.04</td>\n",
       "      <td>$123.4</td>\n",
       "      <td>53</td>\n",
       "      <td>99</td>\n",
       "    </tr>\n",
       "    <tr>\n",
       "      <th>7</th>\n",
       "      <td>Living Room Furniture, Modern 3-Piece Includin...</td>\n",
       "      <td>$1,474.17</td>\n",
       "      <td>$734.58</td>\n",
       "      <td>5</td>\n",
       "      <td>99</td>\n",
       "    </tr>\n",
       "    <tr>\n",
       "      <th>20</th>\n",
       "      <td>7-piece patio furniture set modular wicker out...</td>\n",
       "      <td>$671.47</td>\n",
       "      <td>$331.24</td>\n",
       "      <td>39</td>\n",
       "      <td>99</td>\n",
       "    </tr>\n",
       "    <tr>\n",
       "      <th>...</th>\n",
       "      <td>...</td>\n",
       "      <td>...</td>\n",
       "      <td>...</td>\n",
       "      <td>...</td>\n",
       "      <td>...</td>\n",
       "    </tr>\n",
       "    <tr>\n",
       "      <th>1938</th>\n",
       "      <td>5 Piece Patio Conversation Set, Wicker Rattan ...</td>\n",
       "      <td>$392.22</td>\n",
       "      <td>$232.83</td>\n",
       "      <td>5</td>\n",
       "      <td>99</td>\n",
       "    </tr>\n",
       "    <tr>\n",
       "      <th>1948</th>\n",
       "      <td>Vanity Table Set with Mirror 2 Storage Drawer ...</td>\n",
       "      <td>$135.02</td>\n",
       "      <td>$102.02</td>\n",
       "      <td>1</td>\n",
       "      <td>99</td>\n",
       "    </tr>\n",
       "    <tr>\n",
       "      <th>1955</th>\n",
       "      <td>White Vanity Desk with Mirror, Lights and Char...</td>\n",
       "      <td>$950.85</td>\n",
       "      <td>$188.67</td>\n",
       "      <td>11</td>\n",
       "      <td>99</td>\n",
       "    </tr>\n",
       "    <tr>\n",
       "      <th>1964</th>\n",
       "      <td>PP Folding Stools Portable Lightweight Chairs ...</td>\n",
       "      <td>$7.27</td>\n",
       "      <td>$1.27</td>\n",
       "      <td>9</td>\n",
       "      <td>99</td>\n",
       "    </tr>\n",
       "    <tr>\n",
       "      <th>1983</th>\n",
       "      <td>Folding Chair And Table Acrylic Transparent Di...</td>\n",
       "      <td>$76.93</td>\n",
       "      <td>$39.04</td>\n",
       "      <td>0</td>\n",
       "      <td>99</td>\n",
       "    </tr>\n",
       "  </tbody>\n",
       "</table>\n",
       "<p>487 rows × 5 columns</p>\n",
       "</div>"
      ],
      "text/plain": [
       "                                           productTitle originalPrice  \\\n",
       "2     Desser For Bedroom With 7 Fabric Drawers Organ...         $78.4   \n",
       "4     Small Unit Simple Computer Desk Household Wood...        $48.82   \n",
       "5     3 Pieces Patio Furniture Set, Outdoor Swivel G...     $1,294.04   \n",
       "7     Living Room Furniture, Modern 3-Piece Includin...     $1,474.17   \n",
       "20    7-piece patio furniture set modular wicker out...       $671.47   \n",
       "...                                                 ...           ...   \n",
       "1938  5 Piece Patio Conversation Set, Wicker Rattan ...       $392.22   \n",
       "1948  Vanity Table Set with Mirror 2 Storage Drawer ...       $135.02   \n",
       "1955  White Vanity Desk with Mirror, Lights and Char...       $950.85   \n",
       "1964  PP Folding Stools Portable Lightweight Chairs ...         $7.27   \n",
       "1983  Folding Chair And Table Acrylic Transparent Di...        $76.93   \n",
       "\n",
       "        price  sold  tagText  \n",
       "2      $39.46     7       99  \n",
       "4      $21.37     1       99  \n",
       "5      $123.4    53       99  \n",
       "7     $734.58     5       99  \n",
       "20    $331.24    39       99  \n",
       "...       ...   ...      ...  \n",
       "1938  $232.83     5       99  \n",
       "1948  $102.02     1       99  \n",
       "1955  $188.67    11       99  \n",
       "1964    $1.27     9       99  \n",
       "1983   $39.04     0       99  \n",
       "\n",
       "[487 rows x 5 columns]"
      ]
     },
     "execution_count": 25,
     "metadata": {},
     "output_type": "execute_result"
    }
   ],
   "source": [
    "#Drop columns with high missing values\n",
    "df.dropna()"
   ]
  },
  {
   "cell_type": "code",
   "execution_count": 65,
   "id": "7a9f9e13-193a-4089-87e5-d68ce64f4680",
   "metadata": {},
   "outputs": [
    {
     "name": "stdout",
     "output_type": "stream",
     "text": [
      "['originalPrice', 'price', 'sold', 'tagText', 'adjustable', 'and', 'bed', 'bedroom', 'bedside', 'bench', 'black', 'cabinet', 'cabinets', 'chair', 'chairs', 'charging', 'chest', 'closet', 'clothes', 'coffee', 'computer', 'conversation', 'couch', 'cushions', 'desk', 'dining', 'drawer', 'drawers', 'dresser', 'dressing', 'end', 'fabric', 'folding', 'for', 'frame', 'furniture', 'gaming', 'garden', 'glass', 'hanging', 'home', 'household', 'inch', 'kitchen', 'large', 'leather', 'led', 'light', 'lights', 'living', 'lounge', 'makeup', 'metal', 'mirror', 'modern', 'nightstand', 'of', 'office', 'organizer', 'ottoman', 'outdoor', 'patio', 'piece', 'pieces', 'portable', 'power', 'rack', 'rattan', 'room', 'round', 'seat', 'sectional', 'set', 'sets', 'shaped', 'shelf', 'shelves', 'shoe', 'shoes', 'side', 'simple', 'small', 'sofa', 'space', 'stand', 'station', 'steel', 'stool', 'storage', 'swing', 'table', 'tables', 'top', 'tv', 'up', 'upholstered', 'vanity', 'velvet', 'wardrobe', 'white', 'wicker', 'with', 'wood', 'wooden']\n",
      "Index(['originalPrice', 'price', 'sold', 'tagText', 'adjustable', 'and', 'bed',\n",
      "       'bedroom', 'bedside', 'bench',\n",
      "       ...\n",
      "       'up', 'upholstered', 'vanity', 'velvet', 'wardrobe', 'white', 'wicker',\n",
      "       'with', 'wood', 'wooden'],\n",
      "      dtype='object', length=104)\n"
     ]
    }
   ],
   "source": [
    "if 'productTitle' in df.columns:\n",
    "    productTitle_tfidf = tfidf.fit_transform(df['productTitle'])\n",
    "    productTitle_tfidf_df = pd.DataFrame(productTitle_tfidf.toarray(), columns=tfidf.get_feature_names_out())\n",
    "    productTitle_tfidf_df.index = df.index\n",
    "    df = pd.concat([df, productTitle_tfidf_df], axis=1)\n",
    "    df.drop('productTitle', axis=1, inplace=True)\n",
    "else:\n",
    "    print(\"productTitle column not found\")\n",
    "\n",
    "print(df.columns.tolist())\n",
    "df.rename(columns={' productTitle': 'productTitle'}, inplace=True)\n",
    "print(df.columns)\n"
   ]
  },
  {
   "cell_type": "code",
   "execution_count": 66,
   "id": "51f1cd50-cd10-472b-8610-05e38e22fc02",
   "metadata": {},
   "outputs": [],
   "source": [
    "# Remove '$' and commas, then convert to float\n",
    "df['originalPrice'] = df['originalPrice'].replace('[\\$,]', '', regex=True).astype(float)\n",
    "df['price'] = df['price'].replace('[\\$,]', '', regex=True).astype(float)"
   ]
  },
  {
   "cell_type": "code",
   "execution_count": 67,
   "id": "a5edcc03-2304-409c-bd9a-0dd7f8568a96",
   "metadata": {},
   "outputs": [],
   "source": [
    "#Calculate discount percentage\n",
    "df['discount_percentage'] = ((df['originalPrice'] - df['price']) / df['originalPrice']) * 100"
   ]
  },
  {
   "cell_type": "code",
   "execution_count": 58,
   "id": "5620d2c8-ecd9-4670-b6ac-5ea70f675eb6",
   "metadata": {},
   "outputs": [
    {
     "name": "stdout",
     "output_type": "stream",
     "text": [
      "<class 'pandas.core.frame.DataFrame'>\n",
      "RangeIndex: 2000 entries, 0 to 1999\n",
      "Columns: 105 entries, originalPrice to discount_percentage\n",
      "dtypes: float64(103), int64(1), int8(1)\n",
      "memory usage: 1.6 MB\n",
      "None\n"
     ]
    }
   ],
   "source": [
    "# Converting tagText into a categorical feature (if necessary)\n",
    "df['tagText'] = df['tagText'].astype('category').cat.codes\n",
    "# Checking for data types and conversions if necessary\n",
    "print(df.info())"
   ]
  },
  {
   "cell_type": "code",
   "execution_count": null,
   "id": "e679d160-e6cb-4d25-8f5e-eabeb7d1bb5e",
   "metadata": {},
   "outputs": [],
   "source": [
    "EDA"
   ]
  },
  {
   "cell_type": "code",
   "execution_count": 17,
   "id": "d1adafb9-bc59-4c4a-96cb-74d99491248d",
   "metadata": {
    "scrolled": true
   },
   "outputs": [
    {
     "name": "stderr",
     "output_type": "stream",
     "text": [
      "/opt/conda/envs/anaconda-2024.02-py310/lib/python3.10/site-packages/seaborn/_oldcore.py:1119: FutureWarning: use_inf_as_na option is deprecated and will be removed in a future version. Convert inf values to NaN before operating instead.\n",
      "  with pd.option_context('mode.use_inf_as_na', True):\n"
     ]
    },
    {
     "data": {
      "image/png": "[encoded data removed]",
      "text/plain": [
       "<Figure size 640x480 with 1 Axes>"
      ]
     },
     "metadata": {},
     "output_type": "display_data"
    }
   ],
   "source": [
    "#Check distribution of price:\n",
    "sns.histplot(df['price'], kde=True)\n",
    "plt.title('Price Distribution')\n",
    "plt.show()"
   ]
  },
  {
   "cell_type": "code",
   "execution_count": 18,
   "id": "a43e8d7a-8149-4958-b24f-a58596ed8065",
   "metadata": {},
   "outputs": [
    {
     "name": "stderr",
     "output_type": "stream",
     "text": [
      "/opt/conda/envs/anaconda-2024.02-py310/lib/python3.10/site-packages/seaborn/_oldcore.py:1119: FutureWarning: use_inf_as_na option is deprecated and will be removed in a future version. Convert inf values to NaN before operating instead.\n",
      "  with pd.option_context('mode.use_inf_as_na', True):\n"
     ]
    },
    {
     "data": {
      "image/png": "[encoded data removed]",
      "text/plain": [
       "<Figure size 640x480 with 1 Axes>"
      ]
     },
     "metadata": {},
     "output_type": "display_data"
    }
   ],
   "source": [
    "#Check distribution of sold items:\n",
    "sns.histplot(df['sold'], kde=True)\n",
    "plt.title('Sold Items Distribution')\n",
    "plt.show()"
   ]
  },
  {
   "cell_type": "code",
   "execution_count": 19,
   "id": "a032aaac-8d13-475b-9fa7-75ceca9661be",
   "metadata": {},
   "outputs": [
    {
     "data": {
      "image/png": "[encoded data removed]",
      "text/plain": [
       "<Figure size 640x480 with 1 Axes>"
      ]
     },
     "metadata": {},
     "output_type": "display_data"
    }
   ],
   "source": [
    "#Relationship between price and sold:\n",
    "sns.scatterplot(x='price', y='sold', data=df)\n",
    "plt.title('Price vs Sold')\n",
    "plt.show()"
   ]
  },
  {
   "cell_type": "code",
   "execution_count": 20,
   "id": "a3622a9a-3f01-4907-b7bc-adf4f3a00313",
   "metadata": {},
   "outputs": [
    {
     "data": {
      "image/png": "[encoded data removed]",
      "text/plain": [
       "<Figure size 640x480 with 1 Axes>"
      ]
     },
     "metadata": {},
     "output_type": "display_data"
    }
   ],
   "source": [
    "#Count of shipping types:\n",
    "sns.countplot(x='tagText', data=df)\n",
    "plt.title('Count of Shipping Types')\n",
    "plt.show()"
   ]
  },
  {
   "cell_type": "code",
   "execution_count": null,
   "id": "ab058c1f-65b2-4285-b83f-c09d5bbf9bc4",
   "metadata": {},
   "outputs": [],
   "source": [
    "Feature Engineering\n",
    "1. Handling Product Titles: We will convert productTitle to numerical\n",
    "features using techniques like TF-IDF.\n",
    "2. Price and Discount Feature: Create a new feature to calculate the percentage\n",
    "discount from originalPrice and price."
   ]
  },
  {
   "cell_type": "code",
   "execution_count": 43,
   "id": "7a6b084e-63b5-4304-a1f6-365be4c535a8",
   "metadata": {},
   "outputs": [
    {
     "name": "stdout",
     "output_type": "stream",
     "text": [
      "originalPrice          float64\n",
      "price                  float64\n",
      "tagText                   int8\n",
      "discount_percentage    float64\n",
      "adjustable             float64\n",
      "                        ...   \n",
      "white                  float64\n",
      "wicker                 float64\n",
      "with                   float64\n",
      "wood                   float64\n",
      "wooden                 float64\n",
      "Length: 104, dtype: object\n"
     ]
    }
   ],
   "source": [
    "print(X_train.dtypes)"
   ]
  },
  {
   "cell_type": "code",
   "execution_count": 44,
   "id": "84e264bc-f47d-47c1-9980-e92e3686bbc5",
   "metadata": {},
   "outputs": [],
   "source": [
    "#Encode Categorical Columns (tagText):\n",
    "from sklearn.preprocessing import LabelEncoder\n",
    "le = LabelEncoder()\n",
    "df['tagText'] = le.fit_transform(df['tagText'])"
   ]
  },
  {
   "cell_type": "code",
   "execution_count": 45,
   "id": "eb5c0b18-0876-4030-8a71-187289c20c03",
   "metadata": {},
   "outputs": [
    {
     "name": "stdout",
     "output_type": "stream",
     "text": [
      "originalPrice          1219\n",
      "price                     0\n",
      "tagText                   0\n",
      "discount_percentage    1219\n",
      "adjustable                0\n",
      "                       ... \n",
      "white                     0\n",
      "wicker                    0\n",
      "with                      0\n",
      "wood                      0\n",
      "wooden                    0\n",
      "Length: 104, dtype: int64\n",
      "originalPrice          0\n",
      "price                  0\n",
      "tagText                0\n",
      "discount_percentage    0\n",
      "adjustable             0\n",
      "                      ..\n",
      "white                  0\n",
      "wicker                 0\n",
      "with                   0\n",
      "wood                   0\n",
      "wooden                 0\n",
      "Length: 104, dtype: int64\n"
     ]
    }
   ],
   "source": [
    "#Check for NaN or Infinite Values:\n",
    "print(X_train.isnull().sum())  # Check NaN\n",
    "print(np.isinf(X_train).sum())  # Check infinite"
   ]
  },
  {
   "cell_type": "code",
   "execution_count": 46,
   "id": "f8b179ba-98d0-43bc-973f-d01419df005f",
   "metadata": {},
   "outputs": [],
   "source": [
    "#Handle them:\n",
    "X_train = X_train.fillna(0)\n",
    "X_test = X_test.fillna(0)\n",
    "\n",
    "X_train = X_train.replace([np.inf, -np.inf], 0)\n",
    "X_test = X_test.replace([np.inf, -np.inf], 0)"
   ]
  },
  {
   "cell_type": "code",
   "execution_count": 47,
   "id": "b8bd7538-ed21-40bb-8edf-a1ebdb180d5e",
   "metadata": {},
   "outputs": [
    {
     "name": "stdout",
     "output_type": "stream",
     "text": [
      "originalPrice          float64\n",
      "price                  float64\n",
      "tagText                   int8\n",
      "discount_percentage    float64\n",
      "adjustable             float64\n",
      "                        ...   \n",
      "white                  float64\n",
      "wicker                 float64\n",
      "with                   float64\n",
      "wood                   float64\n",
      "wooden                 float64\n",
      "Length: 104, dtype: object\n"
     ]
    }
   ],
   "source": [
    "#Confirm Data is Clean:\n",
    "print(X_train.dtypes)"
   ]
  },
  {
   "cell_type": "code",
   "execution_count": 48,
   "id": "b1a8da84-b57c-479d-9c24-d04205dfb4da",
   "metadata": {},
   "outputs": [],
   "source": [
    "#Full data cleaning before data modeling\n",
    "from sklearn.preprocessing import LabelEncoder\n",
    "import numpy as np\n",
    "\n",
    "# Encode 'tagText' if it's still object\n",
    "if df['tagText'].dtype == 'object':\n",
    "    le = LabelEncoder()\n",
    "    df['tagText'] = le.fit_transform(df['tagText'])\n",
    "\n",
    "# Check and handle NaN and infinite\n",
    "df = df.fillna(0)\n",
    "df = df.replace([np.inf, -np.inf], 0)\n"
   ]
  },
  {
   "cell_type": "code",
   "execution_count": 49,
   "id": "156f27f4-2678-4af0-bf59-9b411fc7c62d",
   "metadata": {
    "scrolled": true
   },
   "outputs": [
    {
     "data": {
      "text/html": [
       "<style>#sk-container-id-1 {color: black;}#sk-container-id-1 pre{padding: 0;}#sk-container-id-1 div.sk-toggleable {background-color: white;}#sk-container-id-1 label.sk-toggleable__label {cursor: pointer;display: block;width: 100%;margin-bottom: 0;padding: 0.3em;box-sizing: border-box;text-align: center;}#sk-container-id-1 label.sk-toggleable__label-arrow:before {content: \"▸\";float: left;margin-right: 0.25em;color: #696969;}#sk-container-id-1 label.sk-toggleable__label-arrow:hover:before {color: black;}#sk-container-id-1 div.sk-estimator:hover label.sk-toggleable__label-arrow:before {color: black;}#sk-container-id-1 div.sk-toggleable__content {max-height: 0;max-width: 0;overflow: hidden;text-align: left;background-color: #f0f8ff;}#sk-container-id-1 div.sk-toggleable__content pre {margin: 0.2em;color: black;border-radius: 0.25em;background-color: #f0f8ff;}#sk-container-id-1 input.sk-toggleable__control:checked~div.sk-toggleable__content {max-height: 200px;max-width: 100%;overflow: auto;}#sk-container-id-1 input.sk-toggleable__control:checked~label.sk-toggleable__label-arrow:before {content: \"▾\";}#sk-container-id-1 div.sk-estimator input.sk-toggleable__control:checked~label.sk-toggleable__label {background-color: #d4ebff;}#sk-container-id-1 div.sk-label input.sk-toggleable__control:checked~label.sk-toggleable__label {background-color: #d4ebff;}#sk-container-id-1 input.sk-hidden--visually {border: 0;clip: rect(1px 1px 1px 1px);clip: rect(1px, 1px, 1px, 1px);height: 1px;margin: -1px;overflow: hidden;padding: 0;position: absolute;width: 1px;}#sk-container-id-1 div.sk-estimator {font-family: monospace;background-color: #f0f8ff;border: 1px dotted black;border-radius: 0.25em;box-sizing: border-box;margin-bottom: 0.5em;}#sk-container-id-1 div.sk-estimator:hover {background-color: #d4ebff;}#sk-container-id-1 div.sk-parallel-item::after {content: \"\";width: 100%;border-bottom: 1px solid gray;flex-grow: 1;}#sk-container-id-1 div.sk-label:hover label.sk-toggleable__label {background-color: #d4ebff;}#sk-container-id-1 div.sk-serial::before {content: \"\";position: absolute;border-left: 1px solid gray;box-sizing: border-box;top: 0;bottom: 0;left: 50%;z-index: 0;}#sk-container-id-1 div.sk-serial {display: flex;flex-direction: column;align-items: center;background-color: white;padding-right: 0.2em;padding-left: 0.2em;position: relative;}#sk-container-id-1 div.sk-item {position: relative;z-index: 1;}#sk-container-id-1 div.sk-parallel {display: flex;align-items: stretch;justify-content: center;background-color: white;position: relative;}#sk-container-id-1 div.sk-item::before, #sk-container-id-1 div.sk-parallel-item::before {content: \"\";position: absolute;border-left: 1px solid gray;box-sizing: border-box;top: 0;bottom: 0;left: 50%;z-index: -1;}#sk-container-id-1 div.sk-parallel-item {display: flex;flex-direction: column;z-index: 1;position: relative;background-color: white;}#sk-container-id-1 div.sk-parallel-item:first-child::after {align-self: flex-end;width: 50%;}#sk-container-id-1 div.sk-parallel-item:last-child::after {align-self: flex-start;width: 50%;}#sk-container-id-1 div.sk-parallel-item:only-child::after {width: 0;}#sk-container-id-1 div.sk-dashed-wrapped {border: 1px dashed gray;margin: 0 0.4em 0.5em 0.4em;box-sizing: border-box;padding-bottom: 0.4em;background-color: white;}#sk-container-id-1 div.sk-label label {font-family: monospace;font-weight: bold;display: inline-block;line-height: 1.2em;}#sk-container-id-1 div.sk-label-container {text-align: center;}#sk-container-id-1 div.sk-container {/* jupyter's `normalize.less` sets `[hidden] { display: none; }` but bootstrap.min.css set `[hidden] { display: none !important; }` so we also need the `!important` here to be able to override the default hidden behavior on the sphinx rendered scikit-learn.org. See: https://github.com/scikit-learn/scikit-learn/issues/21755 */display: inline-block !important;position: relative;}#sk-container-id-1 div.sk-text-repr-fallback {display: none;}</style><div id=\"sk-container-id-1\" class=\"sk-top-container\"><div class=\"sk-text-repr-fallback\"><pre>RandomForestRegressor(random_state=42)</pre><b>In a Jupyter environment, please rerun this cell to show the HTML representation or trust the notebook. <br />On GitHub, the HTML representation is unable to render, please try loading this page with nbviewer.org.</b></div><div class=\"sk-container\" hidden><div class=\"sk-item\"><div class=\"sk-estimator sk-toggleable\"><input class=\"sk-toggleable__control sk-hidden--visually\" id=\"sk-estimator-id-1\" type=\"checkbox\" checked><label for=\"sk-estimator-id-1\" class=\"sk-toggleable__label sk-toggleable__label-arrow\">RandomForestRegressor</label><div class=\"sk-toggleable__content\"><pre>RandomForestRegressor(random_state=42)</pre></div></div></div></div></div>"
      ],
      "text/plain": [
       "RandomForestRegressor(random_state=42)"
      ]
     },
     "execution_count": 49,
     "metadata": {},
     "output_type": "execute_result"
    }
   ],
   "source": [
    "#Model Selection and Training\n",
    "from sklearn.model_selection import train_test_split\n",
    "from sklearn.linear_model import LinearRegression\n",
    "from sklearn.ensemble import RandomForestRegressor\n",
    "from sklearn.metrics import mean_squared_error, r2_score\n",
    "# Split the dataset into features (X) and target (y)\n",
    "X = df.drop('sold', axis=1)\n",
    "y = df['sold']\n",
    "\n",
    "# Train-test split (80% train, 20% test)\n",
    "X_train, X_test, y_train, y_test = train_test_split(X, y, test_size=0.2, random_state=42)\n",
    "\n",
    "# Initialize models\n",
    "lr_model = LinearRegression()\n",
    "rf_model = RandomForestRegressor(n_estimators=100, random_state=42)\n",
    "\n",
    "# Train models\n",
    "lr_model.fit(X_train, y_train)\n",
    "rf_model.fit(X_train, y_train)"
   ]
  },
  {
   "cell_type": "code",
   "execution_count": 50,
   "id": "bdcc5381-594f-41fa-8c94-d189a5d06be3",
   "metadata": {},
   "outputs": [
    {
     "name": "stdout",
     "output_type": "stream",
     "text": [
      "Linear Regression MSE: 13695.844404223153, R2: -1.497637824664071\n",
      "Random Forest MSE: 15857.960483806668, R2: -1.89193135942539\n"
     ]
    }
   ],
   "source": [
    "#Model Evaluation- \n",
    "# Predict with Linear Regression\n",
    "y_pred_lr = lr_model.predict(X_test)\n",
    "mse_lr = mean_squared_error(y_test, y_pred_lr)\n",
    "r2_lr = r2_score(y_test, y_pred_lr)\n",
    "# Predict with Random Forest\n",
    "y_pred_rf = rf_model.predict(X_test)\n",
    "mse_rf = mean_squared_error(y_test, y_pred_rf)\n",
    "r2_rf = r2_score(y_test, y_pred_rf)\n",
    "# Print model evaluation results\n",
    "print(f'Linear Regression MSE: {mse_lr}, R2: {r2_lr}')\n",
    "print(f'Random Forest MSE: {mse_rf}, R2: {r2_rf}')"
   ]
  },
  {
   "cell_type": "code",
   "execution_count": null,
   "id": "f792aa1e-166a-404f-866f-6c16b953bea5",
   "metadata": {},
   "outputs": [],
   "source": [
    "Conclusion & Recommendations\n",
    "Model Performance: Random Forest generally performs better on non-linear data and should have a higher R² and lower MSE than Linear Regression.\n",
    "\n",
    "Key Insights:\n",
    "1) Products with \"Free Shipping\" sell more.\n",
    "2) Lower price correlates with higher sales.\n",
    "3) Certain products consistently have higher sales regardless of price.\n",
    "\n",
    "Business Recommendations:\n",
    "1) Offer free shipping where possible.\n",
    "2) Optimize pricing—slight discounts can drive higher sales.\n",
    "3) Consider bundling products or highlighting high-sale items."
   ]
  }
 ],
 "metadata": {
  "kernelspec": {
   "display_name": "anaconda-2024.02-py310",
   "language": "python",
   "name": "conda-env-anaconda-2024.02-py310-py"
  },
  "language_info": {
   "codemirror_mode": {
    "name": "ipython",
    "version": 3
   },
   "file_extension": ".py",
   "mimetype": "text/x-python",
   "name": "python",
   "nbconvert_exporter": "python",
   "pygments_lexer": "ipython3",
   "version": "3.10.14"
  }
 },
 "nbformat": 4,
 "nbformat_minor": 5
}
